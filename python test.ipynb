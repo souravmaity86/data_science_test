{
 "cells": [
  {
   "cell_type": "code",
   "execution_count": null,
   "id": "8334cbb5-0dd2-419b-a8a6-257bdb05d508",
   "metadata": {},
   "outputs": [],
   "source": [
    "# 17 Write a function that takes a list of numbers as input and returns a new list containing only the even numbers from the input list. Use list comprehension to solve this problem."
   ]
  },
  {
   "cell_type": "code",
   "execution_count": 2,
   "id": "522557dd-2dd4-49d0-905e-3f5140d7980d",
   "metadata": {},
   "outputs": [
    {
     "name": "stdout",
     "output_type": "stream",
     "text": [
      "Even numbers in the list:  [2, 4, 6, 8, 10]\n"
     ]
    }
   ],
   "source": [
    "list1=[1, 2, 3, 4, 5, 6, 7, 8, 9, 10]\n",
    " \n",
    "# using list comprehension\n",
    "even_nos = [num for num in list1 if num % 2 == 0]\n",
    " \n",
    "print(\"Even numbers in the list: \", even_nos)"
   ]
  },
  {
   "cell_type": "code",
   "execution_count": null,
   "id": "4a73494a-fb6d-4f04-945f-2e6d7135a23f",
   "metadata": {},
   "outputs": [],
   "source": [
    "#18. Implement a decorator function called ‘timer’ that measures the execution time of a function. The ‘timer’ decorator should print the time taken by the decorated function to execute. Use the ‘time’ module in Python to calculate the execution time.\n"
   ]
  },
  {
   "cell_type": "code",
   "execution_count": 11,
   "id": "a601d8b8-feea-4e73-a2bb-df6b4b83df0b",
   "metadata": {},
   "outputs": [
    {
     "name": "stdout",
     "output_type": "stream",
     "text": [
      "Function calculate_something(10,) {} Took 0.0000 seconds\n",
      "Function calculate_something(100,) {} Took 0.0006 seconds\n",
      "Function calculate_something(1000,) {} Took 0.0667 seconds\n",
      "Function calculate_something(5000,) {} Took 1.6324 seconds\n",
      "Function calculate_something(10000,) {} Took 6.5233 seconds\n"
     ]
    }
   ],
   "source": [
    "from functools import wraps\n",
    "import time\n",
    "\n",
    "\n",
    "def timeit(func):\n",
    "    @wraps(func)\n",
    "    def timeit_wrapper(*args, **kwargs):\n",
    "        start_time = time.perf_counter()\n",
    "        result = func(*args, **kwargs)\n",
    "        end_time = time.perf_counter()\n",
    "        total_time = end_time - start_time\n",
    "        print(f'Function {func.__name__}{args} {kwargs} Took {total_time:.4f} seconds')\n",
    "        return result\n",
    "    return timeit_wrapper\n",
    "\n",
    "\n",
    "@timeit\n",
    "def calculate_something(num):\n",
    "    \"\"\"\n",
    "    Simple function that returns sum of all numbers up to the square of num.\n",
    "    \"\"\"\n",
    "    total = sum((x for x in range(0, num**2)))\n",
    "    return total\n",
    "\n",
    "if __name__ == '__main__':\n",
    "    calculate_something(10)\n",
    "    calculate_something(100)\n",
    "    calculate_something(1000)\n",
    "    calculate_something(5000)\n",
    "    calculate_something(10000)"
   ]
  },
  {
   "cell_type": "code",
   "execution_count": null,
   "id": "bd3418a2-4808-4945-af4a-5699537c0441",
   "metadata": {},
   "outputs": [],
   "source": [
    "#19. Write a function called ‘calculate_mean’ that takes a list of numbers as input and returns the mean (average) of the numbers. The function should calculate the mean using the sum of the numbers divided by the total count."
   ]
  },
  {
   "cell_type": "code",
   "execution_count": 5,
   "id": "2cb6d614-5662-42c1-85a6-67cb35d532b0",
   "metadata": {},
   "outputs": [
    {
     "name": "stdout",
     "output_type": "stream",
     "text": [
      "Mean: 30.0\n"
     ]
    }
   ],
   "source": [
    "def calculate_mean(numbers):\n",
    "    total = sum(numbers)\n",
    "    count = len(numbers)\n",
    "    mean = total / count\n",
    "    return mean\n",
    "\n",
    "data = [20, 25, 30, 35, 40]\n",
    "mean_value = calculate_mean(data)\n",
    "print(\"Mean:\", mean_value)"
   ]
  },
  {
   "cell_type": "code",
   "execution_count": null,
   "id": "ad3cc7dd-7067-4757-95e0-6c7603af45be",
   "metadata": {},
   "outputs": [],
   "source": [
    "#20. Write a function called ‘perform_hypothesis_test’ that takes two lists of numbers as input, representing two samples. The function should perform a two-sample t-test and return the p-value. Use the ‘scipy.stats’ module in Python to calculate the t-test and p-value.\n"
   ]
  },
  {
   "cell_type": "code",
   "execution_count": 7,
   "id": "9281cbda-c8ab-43eb-9cc7-718d7d89b042",
   "metadata": {},
   "outputs": [
    {
     "name": "stdout",
     "output_type": "stream",
     "text": [
      "P-value: 0.24150397191306\n"
     ]
    }
   ],
   "source": [
    "from scipy import stats\n",
    "\n",
    "def perform_hypothesis_test(sample1, sample2):\n",
    "    t_statistic, p_value = stats.ttest_ind(sample1, sample2)\n",
    "    return p_value\n",
    "\n",
    "sample1 = [20, 10, 15, 30, 25]\n",
    "sample2 = [10, 20, 30, 40, 50]\n",
    "p_value = perform_hypothesis_test(sample1, sample2)\n",
    "print(\"P-value:\", p_value)\n"
   ]
  },
  {
   "cell_type": "code",
   "execution_count": null,
   "id": "0613cf70-2a7e-47cd-983b-9eaa33533be0",
   "metadata": {},
   "outputs": [],
   "source": []
  }
 ],
 "metadata": {
  "kernelspec": {
   "display_name": "Python 3 (ipykernel)",
   "language": "python",
   "name": "python3"
  },
  "language_info": {
   "codemirror_mode": {
    "name": "ipython",
    "version": 3
   },
   "file_extension": ".py",
   "mimetype": "text/x-python",
   "name": "python",
   "nbconvert_exporter": "python",
   "pygments_lexer": "ipython3",
   "version": "3.10.6"
  }
 },
 "nbformat": 4,
 "nbformat_minor": 5
}
